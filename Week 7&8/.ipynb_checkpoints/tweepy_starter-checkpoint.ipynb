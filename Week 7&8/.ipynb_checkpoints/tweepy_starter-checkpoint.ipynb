{
 "cells": [
  {
   "cell_type": "markdown",
   "metadata": {},
   "source": [
    "# Bellevue University \n",
    "## DSC540-T302 Data Preparation: Summer 2021\n",
    "### Yograj Karki \n",
    "Week 7 & 8 Assignments\n",
    "#### API: Basic Twitter data pull<br>\n",
    "<br>\n",
    "\n",
    "07/22/2021"
   ]
  },
  {
   "cell_type": "code",
   "execution_count": 11,
   "metadata": {},
   "outputs": [],
   "source": [
    "#libraries\n",
    "import tweepy\n",
    "import requests\n",
    "import pandas as pd"
   ]
  },
  {
   "cell_type": "code",
   "execution_count": 12,
   "metadata": {},
   "outputs": [],
   "source": [
    "# from requests_oauthlib import OAuth1Session\n"
   ]
  },
  {
   "cell_type": "code",
   "execution_count": 13,
   "metadata": {},
   "outputs": [],
   "source": [
    "# Running another notebook containing twitter credentials\n",
    "%run ./twitter_keys.ipynb"
   ]
  },
  {
   "cell_type": "code",
   "execution_count": 14,
   "metadata": {},
   "outputs": [],
   "source": [
    "#define search twitter function\n",
    "def search_twitter(query, tweet_fields, bearer_token = BEARER_TOKEN):\n",
    "    headers = {\"Authorization\": \"Bearer {}\".format(bearer_token)}\n",
    "\n",
    "    url = \"https://api.twitter.com/2/tweets/search/recent?query={}&{}\".format(\n",
    "        query, tweet_fields\n",
    "    )\n",
    "    response = requests.request(\"GET\", url, headers=headers)\n",
    "\n",
    "    print(response.status_code)\n",
    "\n",
    "    if response.status_code != 200:\n",
    "        raise Exception(response.status_code, response.text)\n",
    "    return response.json()"
   ]
  },
  {
   "cell_type": "code",
   "execution_count": 17,
   "metadata": {},
   "outputs": [
    {
     "name": "stdout",
     "output_type": "stream",
     "text": [
      "200\n"
     ]
    },
    {
     "data": {
      "text/plain": [
       "{'data': [{'text': 'RT @BellevueU: New month, new giveaway! Comment a 💜 below to be entered to receive this Bellevue University t-shirt!\\n\\n✨Now through August 1…',\n",
       "   'created_at': '2021-08-01T19:17:06.000Z',\n",
       "   'id': '1421912893554102279',\n",
       "   'author_id': '1937867113'},\n",
       "  {'text': 'New month, new giveaway! Comment a 💜 below to be entered to receive this Bellevue University t-shirt!\\n\\n✨Now through August 14th \\n✨One comment will be chosen at random\\n✨Limit one entry per person https://t.co/HLvbUJbFUo',\n",
       "   'created_at': '2021-08-01T17:00:34.000Z',\n",
       "   'id': '1421878533228486661',\n",
       "   'author_id': '9623092'},\n",
       "  {'text': '@missyrayney @Lavendettaaaa Timeless Tea! There’s one in Bellevue and one is University District. 🙏🏼🙏🏼 Their fruit teas are SO GOOD! Just note they use cheesefoam for all their desserts so it has a more heavy cream taste than like sweet whip.',\n",
       "   'created_at': '2021-08-01T01:00:22.000Z',\n",
       "   'id': '1421636892110381061',\n",
       "   'author_id': '9134112'},\n",
       "  {'text': 'Right place, right time; The Old Man and the Sea (of Hemingways); piano man gets $60,000 tip; historically Black university erases debt. https://t.co/xWvX3IqyJa',\n",
       "   'created_at': '2021-07-31T18:38:32.000Z',\n",
       "   'id': '1421540800882692102',\n",
       "   'author_id': '164839196'},\n",
       "  {'text': 'RT @DuwunB: HII!!! thank youwu to our omahaww intern, lauren wiegand! she is from bellevue, nebraska and graduated in 2020 from da universi…',\n",
       "   'created_at': '2021-07-31T15:15:56.000Z',\n",
       "   'id': '1421489816236085255',\n",
       "   'author_id': '1417328202863849505'},\n",
       "  {'text': 'RT @RepDonBacon: Thank you to our Omaha intern, Lauren Wiegand! She is from Bellevue, Nebraska and graduated in 2020 from the University of…',\n",
       "   'created_at': '2021-07-31T02:58:30.000Z',\n",
       "   'id': '1421304233027067911',\n",
       "   'author_id': '23134706'},\n",
       "  {'text': 'RT @RepDonBacon: Thank you to our Omaha intern, Lauren Wiegand! She is from Bellevue, Nebraska and graduated in 2020 from the University of…',\n",
       "   'created_at': '2021-07-31T02:57:41.000Z',\n",
       "   'id': '1421304025987883018',\n",
       "   'author_id': '2901798442'},\n",
       "  {'text': 'HII!!! thank youwu to our omahaww intern, lauren wiegand! she is from bellevue, nebraska and graduated in 2020 from da university of new hampshire with a degree in political science and security studies ^_^ she aspires to be an air force awwficer OwO aim high! https://t.co/aRmuNlp4QS',\n",
       "   'created_at': '2021-07-31T00:21:30.000Z',\n",
       "   'id': '1421264721257320448',\n",
       "   'author_id': '1400577471154622473'},\n",
       "  {'text': 'RT @RepDonBacon: Thank you to our Omaha intern, Lauren Wiegand! She is from Bellevue, Nebraska and graduated in 2020 from the University of…',\n",
       "   'created_at': '2021-07-30T23:05:10.000Z',\n",
       "   'id': '1421245514423668739',\n",
       "   'author_id': '1124447266205503488'},\n",
       "  {'text': 'Thank you to our Omaha intern, Lauren Wiegand! She is from Bellevue, Nebraska and graduated in 2020 from the University of New Hampshire with a degree in political science and security studies. She aspires to be an Air Force officer. Aim High! https://t.co/0L0sJJdiF8',\n",
       "   'created_at': '2021-07-30T23:05:05.000Z',\n",
       "   'id': '1421245490558119938',\n",
       "   'author_id': '818975124460335106'}],\n",
       " 'meta': {'newest_id': '1421912893554102279',\n",
       "  'oldest_id': '1421245490558119938',\n",
       "  'result_count': 10,\n",
       "  'next_token': 'b26v89c19zqg8o3fpdm6vvpd0nu15bzgg17jirloqk9rx'}}"
      ]
     },
     "execution_count": 17,
     "metadata": {},
     "output_type": "execute_result"
    }
   ],
   "source": [
    "# Task 1\n",
    "query = \"Bellevue University\"\n",
    "tweet_fields = \"tweet.fields=text,author_id,created_at\"\n",
    "search_twitter(query = query, tweet_fields= tweet_fields, bearer_token = BEARER_TOKEN )"
   ]
  },
  {
   "cell_type": "code",
   "execution_count": 18,
   "metadata": {},
   "outputs": [
    {
     "name": "stdout",
     "output_type": "stream",
     "text": [
      "200\n"
     ]
    },
    {
     "data": {
      "text/plain": [
       "{'data': [{'id': '1421944222014492673',\n",
       "   'created_at': '2021-08-01T21:21:35.000Z',\n",
       "   'author_id': '1051649960',\n",
       "   'text': 'RT @AustCyberSecMag: #MySecTV📺 Artificial Intelligence - What C-Suite Executives Need to Know. We head to Canberra and speak with Dr Alex A…'},\n",
       "  {'id': '1421944221934788615',\n",
       "   'created_at': '2021-08-01T21:21:35.000Z',\n",
       "   'author_id': '1051649960',\n",
       "   'text': 'RT @patri_vaquero_: 🔬 180 Data Science and Machine Learning Projects with #Python. #BigData #Analytics #DataScience #IoT #RStats #TensorFlo…'},\n",
       "  {'id': '1421944051129929733',\n",
       "   'created_at': '2021-08-01T21:20:54.000Z',\n",
       "   'author_id': '1337430590241562626',\n",
       "   'text': 'RT @patri_vaquero_: 🔬 180 Data Science and Machine Learning Projects with #Python. #BigData #Analytics #DataScience #IoT #RStats #TensorFlo…'},\n",
       "  {'id': '1421944047527202818',\n",
       "   'created_at': '2021-08-01T21:20:54.000Z',\n",
       "   'author_id': '1386109685741260803',\n",
       "   'text': 'RT @patri_vaquero_: 🔬 180 Data Science and Machine Learning Projects with #Python. #BigData #Analytics #DataScience #IoT #RStats #TensorFlo…'},\n",
       "  {'id': '1421944039973212160',\n",
       "   'created_at': '2021-08-01T21:20:52.000Z',\n",
       "   'author_id': '522716076',\n",
       "   'text': 'RT @ArewaFactsZone: Aliyu Ahmad was part of the team that re-designed the 999 platform of British Telecoms (BT); largest mobile network ope…'},\n",
       "  {'id': '1421944030326255618',\n",
       "   'created_at': '2021-08-01T21:20:49.000Z',\n",
       "   'author_id': '1278273884903505921',\n",
       "   'text': 'RT @patri_vaquero_: 🔬 180 Data Science and Machine Learning Projects with #Python. #BigData #Analytics #DataScience #IoT #RStats #TensorFlo…'},\n",
       "  {'id': '1421944028749340674',\n",
       "   'created_at': '2021-08-01T21:20:49.000Z',\n",
       "   'author_id': '1382032616824651777',\n",
       "   'text': 'RT @patri_vaquero_: 🔬 180 Data Science and Machine Learning Projects with #Python. #BigData #Analytics #DataScience #IoT #RStats #TensorFlo…'},\n",
       "  {'id': '1421944028636004357',\n",
       "   'created_at': '2021-08-01T21:20:49.000Z',\n",
       "   'author_id': '971620109197312000',\n",
       "   'text': 'RT @patri_vaquero_: 🔬 180 Data Science and Machine Learning Projects with #Python. #BigData #Analytics #DataScience #IoT #RStats #TensorFlo…'},\n",
       "  {'id': '1421944006242603016',\n",
       "   'created_at': '2021-08-01T21:20:44.000Z',\n",
       "   'author_id': '1141410142937911296',\n",
       "   'text': '🔬 180 Data Science and Machine Learning Projects with #Python. #BigData #Analytics #DataScience #IoT #RStats #TensorFlow #Java #JavaScript #reactjs #GoLang #CloudComputing #Serverless #DataScientist #Linux #Mathematics #Programming #Coding #100DaysofCode \\nhttps://t.co/3aE6XGvmtS https://t.co/GT316iucmz'},\n",
       "  {'id': '1421943933995737092',\n",
       "   'created_at': '2021-08-01T21:20:26.000Z',\n",
       "   'author_id': '1309121177768558593',\n",
       "   'text': \"@JoeBidenWon @KurtSchlichter I mean that data couldn't be clearer that masks dont work. But sure. Go on and continue to be a science denier. https://t.co/nxAqC04kKF\"}],\n",
       " 'meta': {'newest_id': '1421944222014492673',\n",
       "  'oldest_id': '1421943933995737092',\n",
       "  'result_count': 10,\n",
       "  'next_token': 'b26v89c19zqg8o3fpdm6wamfyzdl8tfigp4cvmo29ft6l'}}"
      ]
     },
     "execution_count": 18,
     "metadata": {},
     "output_type": "execute_result"
    }
   ],
   "source": [
    "# Task 2\n",
    "query = \"Data Science\"\n",
    "tweet_fields = \"tweet.fields=text,author_id,created_at\"\n",
    "search_twitter(query = query, tweet_fields= tweet_fields, bearer_token = BEARER_TOKEN )"
   ]
  },
  {
   "cell_type": "code",
   "execution_count": null,
   "metadata": {},
   "outputs": [],
   "source": []
  }
 ],
 "metadata": {
  "kernelspec": {
   "display_name": "Python 3",
   "language": "python",
   "name": "python3"
  },
  "language_info": {
   "codemirror_mode": {
    "name": "ipython",
    "version": 3
   },
   "file_extension": ".py",
   "mimetype": "text/x-python",
   "name": "python",
   "nbconvert_exporter": "python",
   "pygments_lexer": "ipython3",
   "version": "3.8.5"
  }
 },
 "nbformat": 4,
 "nbformat_minor": 4
}
