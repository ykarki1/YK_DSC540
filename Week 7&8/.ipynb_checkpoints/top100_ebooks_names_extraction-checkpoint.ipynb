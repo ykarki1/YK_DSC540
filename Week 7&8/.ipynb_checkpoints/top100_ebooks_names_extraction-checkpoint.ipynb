{
 "cells": [
  {
   "cell_type": "markdown",
   "metadata": {},
   "source": [
    "# Bellevue University \n",
    "## DSC540-T302 Data Preparation: Summer 2021\n",
    "### Yograj Karki \n",
    "Week 7 & 8 Assignments\n",
    "#### Web scraping: Top 100 ebooks' name extraction<br>\n",
    "Data cleaning and transformation<br>\n",
    "\n",
    "07/25/2021"
   ]
  },
  {
   "cell_type": "markdown",
   "metadata": {},
   "source": [
    "1. Import the necessary libraries"
   ]
  },
  {
   "cell_type": "code",
   "execution_count": 1,
   "metadata": {},
   "outputs": [],
   "source": [
    "# Importing dependencies\n",
    "import requests\n",
    "from bs4 import BeautifulSoup\n",
    "import ssl\n",
    "import re"
   ]
  },
  {
   "cell_type": "markdown",
   "metadata": {},
   "source": [
    "2. Check the SSL certificate."
   ]
  },
  {
   "cell_type": "code",
   "execution_count": 2,
   "metadata": {},
   "outputs": [],
   "source": [
    "# Ignore SSL certificate errors\n",
    "ctx = ssl.create_default_context()\n",
    "ctx.check_hostname = False\n",
    "ctx.verify_mode = ssl.CERT_NONE"
   ]
  },
  {
   "cell_type": "markdown",
   "metadata": {},
   "source": [
    "3. Read the HTML from the URL."
   ]
  },
  {
   "cell_type": "code",
   "execution_count": 3,
   "metadata": {},
   "outputs": [],
   "source": [
    "# Read the HTML from the URL and pass on to BeautifulSoup\n",
    "top100url = 'https://www.gutenberg.org/browse/scores/top'\n",
    "response = requests.get(top100url)"
   ]
  },
  {
   "cell_type": "markdown",
   "metadata": {},
   "source": [
    "4. Write a small function to check the status of\n",
    "the web request."
   ]
  },
  {
   "cell_type": "code",
   "execution_count": 4,
   "metadata": {},
   "outputs": [
    {
     "name": "stdout",
     "output_type": "stream",
     "text": [
      "Success!\n"
     ]
    }
   ],
   "source": [
    "# Status check function\n",
    "def status_check(r):\n",
    "    if r.status_code == 200:\n",
    "        print(\"Success!\")\n",
    "    else:\n",
    "        print(\"Retrival failed!\")\n",
    "status_check(response)"
   ]
  },
  {
   "cell_type": "markdown",
   "metadata": {},
   "source": [
    "5. Decode the response and pass this on to\n",
    "BeautifulSoup for HTML parsing."
   ]
  },
  {
   "cell_type": "code",
   "execution_count": 5,
   "metadata": {},
   "outputs": [],
   "source": [
    "# Decoding the response with BeautifulSoup for html parsing\n",
    "soup = BeautifulSoup(response.content, \"html.parser\")"
   ]
  },
  {
   "cell_type": "code",
   "execution_count": 6,
   "metadata": {},
   "outputs": [
    {
     "data": {
      "text/plain": [
       "6"
      ]
     },
     "execution_count": 6,
     "metadata": {},
     "output_type": "execute_result"
    }
   ],
   "source": [
    "# Required top 100 ebooks are listed under \"ol\" tag in the html body\n",
    "all_lists = soup.find_all(\"ol\")\n",
    "len(all_lists)"
   ]
  },
  {
   "cell_type": "code",
   "execution_count": 7,
   "metadata": {},
   "outputs": [
    {
     "data": {
      "text/plain": [
       "['Pride and Prejudice by Jane Austen (1537)',\n",
       " 'Calculus Made Easy by Silvanus P.  Thompson (875)',\n",
       " 'The Adventures of Sherlock Holmes by Arthur Conan Doyle (737)',\n",
       " \"Alice's Adventures in Wonderland by Lewis Carroll (700)\",\n",
       " 'Frankenstein; Or, The Modern Prometheus by Mary Wollstonecraft Shelley (678)',\n",
       " \"A Soldier's Life on the Western Frontier in 1813 by Anonymous (655)\",\n",
       " 'Moby Dick; Or, The Whale by Herman Melville (588)',\n",
       " 'Bread by Charles G. Norris (581)',\n",
       " 'War and Peace by graf Leo Tolstoy (541)',\n",
       " 'A Tale of Two Cities by Charles Dickens (537)']"
      ]
     },
     "execution_count": 7,
     "metadata": {},
     "output_type": "execute_result"
    }
   ],
   "source": [
    "# The first object in the list contains the top 100 e-books names\n",
    "all_titles = [li.string for li in all_lists[0].find_all(\"a\")]\n",
    "\n",
    "\n",
    "# Printing first 10 items in the list\n",
    "all_titles[:10]"
   ]
  },
  {
   "cell_type": "markdown",
   "metadata": {},
   "source": [
    "13. Use a regular expression to extract only text\n",
    "from the name strings and append it to an\n",
    "empty list.<br> Use match and span to find the\n",
    "indices and use them."
   ]
  },
  {
   "cell_type": "code",
   "execution_count": 9,
   "metadata": {},
   "outputs": [
    {
     "name": "stdout",
     "output_type": "stream",
     "text": [
      "Pride and Prejudice by Jane Austen \n",
      "Calculus Made Easy by Silvanus P.  Thompson \n",
      "The Adventures of Sherlock Holmes by Arthur Conan Doyle \n",
      "Alice\n",
      "Frankenstein\n",
      "A Soldier\n",
      "Moby Dick\n",
      "Bread by Charles G. Norris \n",
      "War and Peace by graf Leo Tolstoy \n",
      "A Tale of Two Cities by Charles Dickens \n",
      "The Toy by Kris Neville \n",
      "Sir Gawayne and the Green Knight \n",
      "The Picture of Dorian Gray by Oscar Wilde \n",
      "Dracula by Bram Stoker \n",
      "Grimms\n",
      "Metamorphosis by Franz Kafka \n",
      "The Prince by Niccol\n",
      "The Great Gatsby by F. Scott  Fitzgerald \n",
      "Crime and Punishment by Fyodor Dostoyevsky \n",
      "Jane Eyre\n",
      "Simple Sabotage Field Manual by United States. Office of Strategic Services \n",
      "Ulysses by James Joyce \n",
      "Great Expectations by Charles Dickens \n",
      "The Republic by Plato \n",
      "Heart of Darkness by Joseph Conrad \n",
      "The Prophet by Kahlil Gibran \n",
      "Fortune\n",
      "The Strange Case of Dr. Jekyll and Mr. Hyde by Robert Louis Stevenson \n",
      "The Adventures of Tom Sawyer\n",
      "The American Diary of a Japanese Girl by Yon\n",
      "The Wonderful Wizard of Oz by L. Frank  Baum \n",
      "A Doll\n",
      "Twee Vrinden by Bertha Elisabeth van Osselen\n",
      "The Count of Monte Cristo\n",
      "The Yellow Wallpaper by Charlotte Perkins Gilman \n",
      "Jim Long\n",
      "Anne of Green Gables by L. M.  Montgomery \n",
      "The Importance of Being Earnest\n",
      "Peter Pan by J. M.  Barrie \n",
      "Korean\n",
      "The Iliad by Homer \n",
      "The Extraordinary Adventures of Arsene Lupin\n",
      "Treasure Island by Robert Louis Stevenson \n",
      "A Christmas Carol in Prose\n",
      "The Kama Sutra of Vatsyayana by Vatsyayana \n",
      "A Study in Scarlet by Arthur Conan Doyle \n",
      "Little Women by Louisa May Alcott \n",
      "Walden\n",
      "Emma by Jane Austen \n",
      "The Cosmic Bluff by Mack Reynolds \n",
      "The Romance of Lust\n",
      "Don Quixote by Miguel de Cervantes Saavedra \n",
      "Beowulf\n",
      "Adventures of Huckleberry Finn by Mark Twain \n",
      "Tractatus Logico\n",
      "The Scarlet Letter by Nathaniel Hawthorne \n",
      "A Modest Proposal by Jonathan Swift \n",
      "The Happy Prince\n",
      "The Odyssey by Homer \n",
      "Wanderlust by Alan Edward Nourse \n",
      "The Call of the Wild by Jack London \n",
      "A Pickle for the Knowing Ones by Timothy Dexter \n",
      "The Mysterious Affair at Styles by Agatha Christie \n",
      "Wuthering Heights by Emily Bront\n",
      "The Elementary Forms of the Religious Life by \n",
      "Les Mis\n",
      "Uncle Tom\n",
      "The Hound of the Baskervilles by Arthur Conan Doyle \n",
      "Thus Spake Zarathustra\n",
      "The Slang Dictionary\n",
      "Beyond Good and Evil by Friedrich Wilhelm Nietzsche \n",
      "The Secret Garden by Frances Hodgson Burnett \n",
      "The Souls of Black Folk by W. E. B.  Du Bois \n",
      "The Brothers Karamazov by Fyodor Dostoyevsky \n",
      "Deirdre by James Stephens \n",
      "The Awakening\n",
      "Dubliners by James Joyce \n",
      "Gulliver\n",
      "Essays of Michel de Montaigne \n",
      "George Croghan by Anonymous \n",
      "The Jungle Book by Rudyard Kipling \n",
      "Meditations by Emperor of Rome Marcus Aurelius \n",
      "Anna Karenina by graf Leo Tolstoy \n",
      "Colonel Sion S. Bass by Anonymous \n",
      "Cookery and Dining in Imperial Rome by Apicius \n",
      "Writing Class by Robert Sheckley \n",
      "The Time Machine by H. G.  Wells \n",
      "The War of the Worlds by H. G.  Wells \n",
      "An Index of The Divine Comedy by Dante by Dante Alighieri \n",
      "David Copperfield by Charles Dickens \n",
      "Complete Original Short Stories of Guy De Maupassant by Guy de Maupassant \n",
      "Three Men in a Boat \n",
      "Just So Stories by Rudyard Kipling \n",
      "Pygmalion by Bernard Shaw \n",
      "The King James Version of the Bible \n",
      "Autobiography of Benjamin Franklin by Benjamin Franklin \n",
      "The Communist Manifesto by Friedrich Engels and Karl Marx \n",
      "Anthem by Ayn Rand \n",
      "Around the World in Eighty Days by Jules Verne \n",
      "Sense and Sensibility by Jane Austen \n"
     ]
    }
   ],
   "source": [
    "# Stripping off the numbers and printing out the final result\n",
    "top100_ebooks=[]\n",
    "for i in range(100):\n",
    "    id1,id2=re.match('^[a-zA-Z. ]*',all_titles[i]).span()\n",
    "    top100_ebooks.append(all_titles[i][id1:id2])\n",
    "    print(all_titles[i][id1:id2])"
   ]
  },
  {
   "cell_type": "code",
   "execution_count": null,
   "metadata": {},
   "outputs": [],
   "source": []
  }
 ],
 "metadata": {
  "kernelspec": {
   "display_name": "Python 3",
   "language": "python",
   "name": "python3"
  },
  "language_info": {
   "codemirror_mode": {
    "name": "ipython",
    "version": 3
   },
   "file_extension": ".py",
   "mimetype": "text/x-python",
   "name": "python",
   "nbconvert_exporter": "python",
   "pygments_lexer": "ipython3",
   "version": "3.8.5"
  }
 },
 "nbformat": 4,
 "nbformat_minor": 4
}
