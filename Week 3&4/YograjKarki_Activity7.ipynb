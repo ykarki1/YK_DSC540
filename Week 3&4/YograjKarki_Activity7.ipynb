{
 "cells": [
  {
   "cell_type": "markdown",
   "metadata": {},
   "source": [
    "# Bellevue University \n",
    "## DSC540-T302 Data Preparation: Summer 2021\n",
    "### Yograj Karki \n",
    "Week 3 & 4 Assignments <br>\n",
    "Activity 7 <br>\n",
    "06/26/2021"
   ]
  },
  {
   "cell_type": "markdown",
   "metadata": {},
   "source": [
    "In this activity, you have been given a Wikipedia page where you have the\n",
    "GDP of all countries listed. You have been asked to create three Data‐\n",
    "Frames from the three sources mentioned in the page (https://en.wikipedia.\n",
    "org/wiki/List_of_countries_by_GDP_(nominal)):\n",
    "You will have to do the following:"
   ]
  },
  {
   "cell_type": "markdown",
   "metadata": {},
   "source": [
    "1. Open the page in a separate Chrome/Firefox\n",
    "tab and use something like an Inspect\n",
    "Element tool to view the source HTML and\n",
    "understand its structure"
   ]
  },
  {
   "cell_type": "code",
   "execution_count": 1,
   "metadata": {},
   "outputs": [],
   "source": [
    "import requests\n",
    "import numpy as np\n",
    "import pandas as pd\n",
    "from bs4 import BeautifulSoup"
   ]
  },
  {
   "cell_type": "markdown",
   "metadata": {},
   "source": [
    "2. Read the page using bs4"
   ]
  },
  {
   "cell_type": "code",
   "execution_count": 2,
   "metadata": {},
   "outputs": [],
   "source": [
    "url = \"https://en.wikipedia.org/wiki/List_of_countries_by_GDP_(nominal)\"\n",
    "r = requests.get(url)\n",
    "\n",
    "soup = BeautifulSoup(r.content, \"html.parser\")\n"
   ]
  },
  {
   "cell_type": "markdown",
   "metadata": {},
   "source": [
    "3. Find the table structure you will need to deal\n",
    "with (how many tables there are?)"
   ]
  },
  {
   "cell_type": "code",
   "execution_count": 3,
   "metadata": {},
   "outputs": [
    {
     "data": {
      "text/plain": [
       "7"
      ]
     },
     "execution_count": 3,
     "metadata": {},
     "output_type": "execute_result"
    }
   ],
   "source": [
    "all_tables = soup.find_all(\"table\")\n",
    "len(all_tables)"
   ]
  },
  {
   "cell_type": "markdown",
   "metadata": {},
   "source": [
    "4. Find the right table using bs4"
   ]
  },
  {
   "cell_type": "code",
   "execution_count": 4,
   "metadata": {},
   "outputs": [
    {
     "data": {
      "text/html": [
       "<div>\n",
       "<style scoped>\n",
       "    .dataframe tbody tr th:only-of-type {\n",
       "        vertical-align: middle;\n",
       "    }\n",
       "\n",
       "    .dataframe tbody tr th {\n",
       "        vertical-align: top;\n",
       "    }\n",
       "\n",
       "    .dataframe thead tr th {\n",
       "        text-align: left;\n",
       "    }\n",
       "</style>\n",
       "<table border=\"1\" class=\"dataframe\">\n",
       "  <thead>\n",
       "    <tr>\n",
       "      <th></th>\n",
       "      <th>Country (or territory)</th>\n",
       "      <th>Subregion</th>\n",
       "      <th>Region</th>\n",
       "      <th colspan=\"2\" halign=\"left\">IMF[1]</th>\n",
       "      <th colspan=\"2\" halign=\"left\">UN[12]</th>\n",
       "      <th colspan=\"2\" halign=\"left\">World Bank[13]</th>\n",
       "    </tr>\n",
       "    <tr>\n",
       "      <th></th>\n",
       "      <th>Country (or territory)</th>\n",
       "      <th>Subregion</th>\n",
       "      <th>Region</th>\n",
       "      <th>Estimate</th>\n",
       "      <th>Year</th>\n",
       "      <th>Estimate</th>\n",
       "      <th>Year</th>\n",
       "      <th>Estimate</th>\n",
       "      <th>Year</th>\n",
       "    </tr>\n",
       "  </thead>\n",
       "  <tbody>\n",
       "    <tr>\n",
       "      <th>0</th>\n",
       "      <td>United States†</td>\n",
       "      <td>Northern America</td>\n",
       "      <td>Americas</td>\n",
       "      <td>22675271.0</td>\n",
       "      <td>2021</td>\n",
       "      <td>21433226</td>\n",
       "      <td>2020</td>\n",
       "      <td>20936600.0</td>\n",
       "      <td>2020.0</td>\n",
       "    </tr>\n",
       "    <tr>\n",
       "      <th>1</th>\n",
       "      <td>China†</td>\n",
       "      <td>Eastern Asia</td>\n",
       "      <td>Asia</td>\n",
       "      <td>16642318.0</td>\n",
       "      <td>[n 2]2021</td>\n",
       "      <td>14342933</td>\n",
       "      <td>[n 3]2020</td>\n",
       "      <td>14722731.0</td>\n",
       "      <td>2020.0</td>\n",
       "    </tr>\n",
       "    <tr>\n",
       "      <th>2</th>\n",
       "      <td>Japan†</td>\n",
       "      <td>Eastern Asia</td>\n",
       "      <td>Asia</td>\n",
       "      <td>5378136.0</td>\n",
       "      <td>2021</td>\n",
       "      <td>5082465</td>\n",
       "      <td>2020</td>\n",
       "      <td>5064873.0</td>\n",
       "      <td>2019.0</td>\n",
       "    </tr>\n",
       "    <tr>\n",
       "      <th>3</th>\n",
       "      <td>Germany†</td>\n",
       "      <td>Western Europe</td>\n",
       "      <td>Europe</td>\n",
       "      <td>4319286.0</td>\n",
       "      <td>2021</td>\n",
       "      <td>3861123</td>\n",
       "      <td>2020</td>\n",
       "      <td>3806060.0</td>\n",
       "      <td>2020.0</td>\n",
       "    </tr>\n",
       "    <tr>\n",
       "      <th>4</th>\n",
       "      <td>United Kingdom†</td>\n",
       "      <td>Northern Europe</td>\n",
       "      <td>Europe</td>\n",
       "      <td>3124650.0</td>\n",
       "      <td>2021</td>\n",
       "      <td>2826441</td>\n",
       "      <td>2020</td>\n",
       "      <td>2707744.0</td>\n",
       "      <td>2020.0</td>\n",
       "    </tr>\n",
       "  </tbody>\n",
       "</table>\n",
       "</div>"
      ],
      "text/plain": [
       "  Country (or territory)         Subregion    Region      IMF[1]             \\\n",
       "  Country (or territory)         Subregion    Region    Estimate       Year   \n",
       "0         United States†  Northern America  Americas  22675271.0       2021   \n",
       "1                 China†      Eastern Asia      Asia  16642318.0  [n 2]2021   \n",
       "2                 Japan†      Eastern Asia      Asia   5378136.0       2021   \n",
       "3               Germany†    Western Europe    Europe   4319286.0       2021   \n",
       "4        United Kingdom†   Northern Europe    Europe   3124650.0       2021   \n",
       "\n",
       "     UN[12]            World Bank[13]          \n",
       "   Estimate       Year       Estimate    Year  \n",
       "0  21433226       2020     20936600.0  2020.0  \n",
       "1  14342933  [n 3]2020     14722731.0  2020.0  \n",
       "2   5082465       2020      5064873.0  2019.0  \n",
       "3   3861123       2020      3806060.0  2020.0  \n",
       "4   2826441       2020      2707744.0  2020.0  "
      ]
     },
     "execution_count": 4,
     "metadata": {},
     "output_type": "execute_result"
    }
   ],
   "source": [
    "gdp_table = soup.find(\"table\", class_=\"wikitable\")\n",
    "\n",
    "# Table parser\n",
    "df = pd.read_html(str(gdp_table))[0]\n",
    "df.head()\n"
   ]
  },
  {
   "cell_type": "code",
   "execution_count": 5,
   "metadata": {},
   "outputs": [
    {
     "data": {
      "text/plain": [
       "(213, 9)"
      ]
     },
     "execution_count": 5,
     "metadata": {},
     "output_type": "execute_result"
    }
   ],
   "source": [
    "df.shape"
   ]
  },
  {
   "cell_type": "markdown",
   "metadata": {},
   "source": [
    "5. Separate the source names and their\n",
    "corresponding data"
   ]
  },
  {
   "cell_type": "code",
   "execution_count": 6,
   "metadata": {},
   "outputs": [
    {
     "data": {
      "text/plain": [
       "3"
      ]
     },
     "execution_count": 6,
     "metadata": {},
     "output_type": "execute_result"
    }
   ],
   "source": [
    "# getting tr tags\n",
    "columns = gdp_table.tbody.findAll('tr')[0]\n",
    "col_heads = [th for th in columns.findAll('th')]\n",
    "# Noticed last three th are for sources\n",
    "sources_only = col_heads[-3:]\n",
    "\n",
    "len(sources_only)\n"
   ]
  },
  {
   "cell_type": "markdown",
   "metadata": {},
   "source": [
    "6. Get the source names from the list of sources\n",
    "you have created"
   ]
  },
  {
   "cell_type": "code",
   "execution_count": 7,
   "metadata": {},
   "outputs": [
    {
     "data": {
      "text/plain": [
       "['International Monetary Fund', 'United Nations', 'World Bank']"
      ]
     },
     "execution_count": 7,
     "metadata": {},
     "output_type": "execute_result"
    }
   ],
   "source": [
    "# Preferred option\n",
    "source_names = [(source.find(\"a\")).get('title') for source in sources_only]\n",
    "source_names"
   ]
  },
  {
   "cell_type": "code",
   "execution_count": 8,
   "metadata": {},
   "outputs": [
    {
     "name": "stdout",
     "output_type": "stream",
     "text": [
      "['IMF', 'UN', 'World Bank']\n"
     ]
    }
   ],
   "source": [
    "# Alternatively\n",
    "source_names = [source.findAll('a')[0].getText() for source in sources_only]\n",
    "print(source_names)"
   ]
  },
  {
   "cell_type": "markdown",
   "metadata": {},
   "source": [
    "7. Separate the header and data from the data\n",
    "that you separated before for the first source\n",
    "only, and then create a DataFrame using that"
   ]
  },
  {
   "cell_type": "markdown",
   "metadata": {},
   "source": [
    "8. Repeat the last task for the other two data\n",
    "sources"
   ]
  },
  {
   "cell_type": "code",
   "execution_count": 9,
   "metadata": {},
   "outputs": [
    {
     "data": {
      "text/plain": [
       "['United States†',\n",
       " 'Northern America',\n",
       " 'Americas',\n",
       " '22,675,271',\n",
       " '2021',\n",
       " '21,433,226',\n",
       " '2020',\n",
       " '20,936,600',\n",
       " '2020']"
      ]
     },
     "execution_count": 9,
     "metadata": {},
     "output_type": "execute_result"
    }
   ],
   "source": [
    "# Extracting all data rows\n",
    "\n",
    "rows = gdp_table.tbody.findAll(\"tr\")[2:]\n",
    "\n",
    "# Listing data of each row as a list\n",
    "data_rows = [[td.getText().strip() for td in tr.findAll('td')] for tr in rows]\n",
    "\n",
    "# Inspecting the first element of data_rows\n",
    "data_rows[0]"
   ]
  },
  {
   "cell_type": "code",
   "execution_count": 10,
   "metadata": {},
   "outputs": [
    {
     "data": {
      "text/plain": [
       "['IMF Estimate',\n",
       " 'IMF Year',\n",
       " 'UN Estimate',\n",
       " 'UN Year',\n",
       " 'World Bank Estimate',\n",
       " 'World Bank Year']"
      ]
     },
     "execution_count": 10,
     "metadata": {},
     "output_type": "execute_result"
    }
   ],
   "source": [
    "# Extracting column names\n",
    "\n",
    "# There is estimate and year column for each data sources:\n",
    "cols = [\"Estimate\",\"Year\"]\n",
    "\n",
    "\n",
    "sources_cols = []\n",
    "for source in source_names:\n",
    "    for _ in cols:\n",
    "        a = str(source)+\" \"+ str(_)\n",
    "        sources_cols.append(a)\n",
    "\n",
    "# Inspecting sources_columns\n",
    "sources_cols"
   ]
  },
  {
   "cell_type": "code",
   "execution_count": 11,
   "metadata": {},
   "outputs": [],
   "source": [
    "general_cols = [th.getText().strip() for th in col_heads[:3]]"
   ]
  },
  {
   "cell_type": "code",
   "execution_count": 12,
   "metadata": {},
   "outputs": [
    {
     "data": {
      "text/plain": [
       "['Country (or territory)',\n",
       " 'Subregion',\n",
       " 'Region',\n",
       " 'IMF Estimate',\n",
       " 'IMF Year',\n",
       " 'UN Estimate',\n",
       " 'UN Year',\n",
       " 'World Bank Estimate',\n",
       " 'World Bank Year']"
      ]
     },
     "execution_count": 12,
     "metadata": {},
     "output_type": "execute_result"
    }
   ],
   "source": [
    "all_columns = general_cols + sources_cols\n",
    "all_columns"
   ]
  },
  {
   "cell_type": "code",
   "execution_count": 13,
   "metadata": {},
   "outputs": [],
   "source": [
    "# Finally creating the dataframe\n",
    "df1 = pd.DataFrame(data_rows, columns = all_columns)"
   ]
  },
  {
   "cell_type": "code",
   "execution_count": 14,
   "metadata": {},
   "outputs": [
    {
     "data": {
      "text/html": [
       "<div>\n",
       "<style scoped>\n",
       "    .dataframe tbody tr th:only-of-type {\n",
       "        vertical-align: middle;\n",
       "    }\n",
       "\n",
       "    .dataframe tbody tr th {\n",
       "        vertical-align: top;\n",
       "    }\n",
       "\n",
       "    .dataframe thead th {\n",
       "        text-align: right;\n",
       "    }\n",
       "</style>\n",
       "<table border=\"1\" class=\"dataframe\">\n",
       "  <thead>\n",
       "    <tr style=\"text-align: right;\">\n",
       "      <th></th>\n",
       "      <th>Country (or territory)</th>\n",
       "      <th>Subregion</th>\n",
       "      <th>Region</th>\n",
       "      <th>IMF Estimate</th>\n",
       "      <th>IMF Year</th>\n",
       "      <th>UN Estimate</th>\n",
       "      <th>UN Year</th>\n",
       "      <th>World Bank Estimate</th>\n",
       "      <th>World Bank Year</th>\n",
       "    </tr>\n",
       "  </thead>\n",
       "  <tbody>\n",
       "    <tr>\n",
       "      <th>0</th>\n",
       "      <td>United States†</td>\n",
       "      <td>Northern America</td>\n",
       "      <td>Americas</td>\n",
       "      <td>22,675,271</td>\n",
       "      <td>2021</td>\n",
       "      <td>21,433,226</td>\n",
       "      <td>2020</td>\n",
       "      <td>20,936,600</td>\n",
       "      <td>2020</td>\n",
       "    </tr>\n",
       "    <tr>\n",
       "      <th>1</th>\n",
       "      <td>China†</td>\n",
       "      <td>Eastern Asia</td>\n",
       "      <td>Asia</td>\n",
       "      <td>16,642,318</td>\n",
       "      <td>[n 2]2021</td>\n",
       "      <td>14,342,933</td>\n",
       "      <td>[n 3]2020</td>\n",
       "      <td>14,722,731</td>\n",
       "      <td>2020</td>\n",
       "    </tr>\n",
       "    <tr>\n",
       "      <th>2</th>\n",
       "      <td>Japan†</td>\n",
       "      <td>Eastern Asia</td>\n",
       "      <td>Asia</td>\n",
       "      <td>5,378,136</td>\n",
       "      <td>2021</td>\n",
       "      <td>5,082,465</td>\n",
       "      <td>2020</td>\n",
       "      <td>5,064,873</td>\n",
       "      <td>2019</td>\n",
       "    </tr>\n",
       "    <tr>\n",
       "      <th>3</th>\n",
       "      <td>Germany†</td>\n",
       "      <td>Western Europe</td>\n",
       "      <td>Europe</td>\n",
       "      <td>4,319,286</td>\n",
       "      <td>2021</td>\n",
       "      <td>3,861,123</td>\n",
       "      <td>2020</td>\n",
       "      <td>3,806,060</td>\n",
       "      <td>2020</td>\n",
       "    </tr>\n",
       "    <tr>\n",
       "      <th>4</th>\n",
       "      <td>United Kingdom†</td>\n",
       "      <td>Northern Europe</td>\n",
       "      <td>Europe</td>\n",
       "      <td>3,124,650</td>\n",
       "      <td>2021</td>\n",
       "      <td>2,826,441</td>\n",
       "      <td>2020</td>\n",
       "      <td>2,707,744</td>\n",
       "      <td>2020</td>\n",
       "    </tr>\n",
       "  </tbody>\n",
       "</table>\n",
       "</div>"
      ],
      "text/plain": [
       "  Country (or territory)         Subregion    Region IMF Estimate   IMF Year  \\\n",
       "0         United States†  Northern America  Americas   22,675,271       2021   \n",
       "1                 China†      Eastern Asia      Asia   16,642,318  [n 2]2021   \n",
       "2                 Japan†      Eastern Asia      Asia    5,378,136       2021   \n",
       "3               Germany†    Western Europe    Europe    4,319,286       2021   \n",
       "4        United Kingdom†   Northern Europe    Europe    3,124,650       2021   \n",
       "\n",
       "  UN Estimate    UN Year World Bank Estimate World Bank Year  \n",
       "0  21,433,226       2020          20,936,600            2020  \n",
       "1  14,342,933  [n 3]2020          14,722,731            2020  \n",
       "2   5,082,465       2020           5,064,873            2019  \n",
       "3   3,861,123       2020           3,806,060            2020  \n",
       "4   2,826,441       2020           2,707,744            2020  "
      ]
     },
     "execution_count": 14,
     "metadata": {},
     "output_type": "execute_result"
    }
   ],
   "source": [
    "df1.head()"
   ]
  },
  {
   "cell_type": "code",
   "execution_count": null,
   "metadata": {},
   "outputs": [],
   "source": []
  }
 ],
 "metadata": {
  "kernelspec": {
   "display_name": "Python 3",
   "language": "python",
   "name": "python3"
  },
  "language_info": {
   "codemirror_mode": {
    "name": "ipython",
    "version": 3
   },
   "file_extension": ".py",
   "mimetype": "text/x-python",
   "name": "python",
   "nbconvert_exporter": "python",
   "pygments_lexer": "ipython3",
   "version": "3.8.5"
  }
 },
 "nbformat": 4,
 "nbformat_minor": 4
}
