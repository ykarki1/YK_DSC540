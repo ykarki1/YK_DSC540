{
 "cells": [
  {
   "cell_type": "code",
   "execution_count": null,
   "metadata": {},
   "outputs": [],
   "source": [
    "# Twitter credentials\n",
    "API_key = \"UYfSo5VOHO1F7ugu5QxX8PVnu?\"\n",
    "API_secret_key = \"FVbxQl5qOfDyI7DzwG25K421UMEFV2asYh1E4juoXbGF9ISrqG\"\n",
    "BEARER_TOKEN = \"AAAAAAAAAAAAAAAAAAAAAAMRSQEAAAAAULkCT7mev9TXtY3xGZrZn1TEwRg%3DRiDnl6DCK5M5Eadjkb3pYnfUATm096apITW5X9lkb4De3CZNL6\"\n"
   ]
  }
 ],
 "metadata": {
  "kernelspec": {
   "display_name": "Python 3",
   "language": "python",
   "name": "python3"
  },
  "language_info": {
   "codemirror_mode": {
    "name": "ipython",
    "version": 3
   },
   "file_extension": ".py",
   "mimetype": "text/x-python",
   "name": "python",
   "nbconvert_exporter": "python",
   "pygments_lexer": "ipython3",
   "version": "3.8.5"
  }
 },
 "nbformat": 4,
 "nbformat_minor": 4
}
