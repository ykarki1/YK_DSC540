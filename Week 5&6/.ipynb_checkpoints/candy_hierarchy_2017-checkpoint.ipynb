{
 "cells": [
  {
   "cell_type": "markdown",
   "metadata": {},
   "source": [
    "# Bellevue University \n",
    "## DSC540-T302 Data Preparation: Summer 2021\n",
    "### Yograj Karki \n",
    "Week 5 & 6 Assignments <br>\n",
    "Data cleaning and transformation<br>\n",
    "07/07/2021"
   ]
  },
  {
   "cell_type": "code",
   "execution_count": 1,
   "metadata": {},
   "outputs": [],
   "source": [
    "# importing necessary packages\n",
    "import pandas as pd\n",
    "import numpy as np"
   ]
  },
  {
   "cell_type": "code",
   "execution_count": 2,
   "metadata": {},
   "outputs": [
    {
     "data": {
      "text/html": [
       "<div>\n",
       "<style scoped>\n",
       "    .dataframe tbody tr th:only-of-type {\n",
       "        vertical-align: middle;\n",
       "    }\n",
       "\n",
       "    .dataframe tbody tr th {\n",
       "        vertical-align: top;\n",
       "    }\n",
       "\n",
       "    .dataframe thead th {\n",
       "        text-align: right;\n",
       "    }\n",
       "</style>\n",
       "<table border=\"1\" class=\"dataframe\">\n",
       "  <thead>\n",
       "    <tr style=\"text-align: right;\">\n",
       "      <th></th>\n",
       "      <th>Internal ID</th>\n",
       "      <th>Q1: GOING OUT?</th>\n",
       "      <th>Q2: GENDER</th>\n",
       "      <th>Q3: AGE</th>\n",
       "      <th>Q4: COUNTRY</th>\n",
       "      <th>Q5: STATE, PROVINCE, COUNTY, ETC</th>\n",
       "      <th>Q6 | 100 Grand Bar</th>\n",
       "      <th>Q6 | Anonymous brown globs that come in black and orange wrappers\\t(a.k.a. Mary Janes)</th>\n",
       "      <th>Q6 | Any full-sized candy bar</th>\n",
       "      <th>Q6 | Black Jacks</th>\n",
       "      <th>...</th>\n",
       "      <th>Q8: DESPAIR OTHER</th>\n",
       "      <th>Q9: OTHER COMMENTS</th>\n",
       "      <th>Q10: DRESS</th>\n",
       "      <th>Unnamed: 113</th>\n",
       "      <th>Q11: DAY</th>\n",
       "      <th>Q12: MEDIA [Daily Dish]</th>\n",
       "      <th>Q12: MEDIA [Science]</th>\n",
       "      <th>Q12: MEDIA [ESPN]</th>\n",
       "      <th>Q12: MEDIA [Yahoo]</th>\n",
       "      <th>Click Coordinates (x, y)</th>\n",
       "    </tr>\n",
       "  </thead>\n",
       "  <tbody>\n",
       "    <tr>\n",
       "      <th>0</th>\n",
       "      <td>90258773</td>\n",
       "      <td>NaN</td>\n",
       "      <td>NaN</td>\n",
       "      <td>NaN</td>\n",
       "      <td>NaN</td>\n",
       "      <td>NaN</td>\n",
       "      <td>NaN</td>\n",
       "      <td>NaN</td>\n",
       "      <td>NaN</td>\n",
       "      <td>NaN</td>\n",
       "      <td>...</td>\n",
       "      <td>NaN</td>\n",
       "      <td>NaN</td>\n",
       "      <td>NaN</td>\n",
       "      <td>NaN</td>\n",
       "      <td>NaN</td>\n",
       "      <td>NaN</td>\n",
       "      <td>NaN</td>\n",
       "      <td>NaN</td>\n",
       "      <td>NaN</td>\n",
       "      <td>NaN</td>\n",
       "    </tr>\n",
       "    <tr>\n",
       "      <th>1</th>\n",
       "      <td>90272821</td>\n",
       "      <td>No</td>\n",
       "      <td>Male</td>\n",
       "      <td>44</td>\n",
       "      <td>USA</td>\n",
       "      <td>NM</td>\n",
       "      <td>MEH</td>\n",
       "      <td>DESPAIR</td>\n",
       "      <td>JOY</td>\n",
       "      <td>MEH</td>\n",
       "      <td>...</td>\n",
       "      <td>NaN</td>\n",
       "      <td>Bottom line is Twix is really the only candy w...</td>\n",
       "      <td>White and gold</td>\n",
       "      <td>NaN</td>\n",
       "      <td>Sunday</td>\n",
       "      <td>NaN</td>\n",
       "      <td>1.0</td>\n",
       "      <td>NaN</td>\n",
       "      <td>NaN</td>\n",
       "      <td>(84, 25)</td>\n",
       "    </tr>\n",
       "    <tr>\n",
       "      <th>2</th>\n",
       "      <td>90272829</td>\n",
       "      <td>NaN</td>\n",
       "      <td>Male</td>\n",
       "      <td>49</td>\n",
       "      <td>USA</td>\n",
       "      <td>Virginia</td>\n",
       "      <td>NaN</td>\n",
       "      <td>NaN</td>\n",
       "      <td>NaN</td>\n",
       "      <td>NaN</td>\n",
       "      <td>...</td>\n",
       "      <td>NaN</td>\n",
       "      <td>NaN</td>\n",
       "      <td>NaN</td>\n",
       "      <td>NaN</td>\n",
       "      <td>NaN</td>\n",
       "      <td>NaN</td>\n",
       "      <td>NaN</td>\n",
       "      <td>NaN</td>\n",
       "      <td>NaN</td>\n",
       "      <td>NaN</td>\n",
       "    </tr>\n",
       "    <tr>\n",
       "      <th>3</th>\n",
       "      <td>90272840</td>\n",
       "      <td>No</td>\n",
       "      <td>Male</td>\n",
       "      <td>40</td>\n",
       "      <td>us</td>\n",
       "      <td>or</td>\n",
       "      <td>MEH</td>\n",
       "      <td>DESPAIR</td>\n",
       "      <td>JOY</td>\n",
       "      <td>MEH</td>\n",
       "      <td>...</td>\n",
       "      <td>NaN</td>\n",
       "      <td>Raisins can go to hell</td>\n",
       "      <td>White and gold</td>\n",
       "      <td>NaN</td>\n",
       "      <td>Sunday</td>\n",
       "      <td>NaN</td>\n",
       "      <td>1.0</td>\n",
       "      <td>NaN</td>\n",
       "      <td>NaN</td>\n",
       "      <td>(75, 23)</td>\n",
       "    </tr>\n",
       "    <tr>\n",
       "      <th>4</th>\n",
       "      <td>90272841</td>\n",
       "      <td>No</td>\n",
       "      <td>Male</td>\n",
       "      <td>23</td>\n",
       "      <td>usa</td>\n",
       "      <td>exton pa</td>\n",
       "      <td>JOY</td>\n",
       "      <td>DESPAIR</td>\n",
       "      <td>JOY</td>\n",
       "      <td>DESPAIR</td>\n",
       "      <td>...</td>\n",
       "      <td>NaN</td>\n",
       "      <td>NaN</td>\n",
       "      <td>White and gold</td>\n",
       "      <td>NaN</td>\n",
       "      <td>Friday</td>\n",
       "      <td>NaN</td>\n",
       "      <td>1.0</td>\n",
       "      <td>NaN</td>\n",
       "      <td>NaN</td>\n",
       "      <td>(70, 10)</td>\n",
       "    </tr>\n",
       "  </tbody>\n",
       "</table>\n",
       "<p>5 rows × 120 columns</p>\n",
       "</div>"
      ],
      "text/plain": [
       "   Internal ID Q1: GOING OUT? Q2: GENDER Q3: AGE Q4: COUNTRY  \\\n",
       "0     90258773            NaN        NaN     NaN         NaN   \n",
       "1     90272821             No       Male      44        USA    \n",
       "2     90272829            NaN       Male      49         USA   \n",
       "3     90272840             No       Male      40          us   \n",
       "4     90272841             No       Male      23         usa   \n",
       "\n",
       "  Q5: STATE, PROVINCE, COUNTY, ETC Q6 | 100 Grand Bar  \\\n",
       "0                              NaN                NaN   \n",
       "1                               NM                MEH   \n",
       "2                         Virginia                NaN   \n",
       "3                               or                MEH   \n",
       "4                         exton pa                JOY   \n",
       "\n",
       "  Q6 | Anonymous brown globs that come in black and orange wrappers\\t(a.k.a. Mary Janes)  \\\n",
       "0                                                NaN                                       \n",
       "1                                            DESPAIR                                       \n",
       "2                                                NaN                                       \n",
       "3                                            DESPAIR                                       \n",
       "4                                            DESPAIR                                       \n",
       "\n",
       "  Q6 | Any full-sized candy bar Q6 | Black Jacks  ... Q8: DESPAIR OTHER  \\\n",
       "0                           NaN              NaN  ...               NaN   \n",
       "1                           JOY              MEH  ...               NaN   \n",
       "2                           NaN              NaN  ...               NaN   \n",
       "3                           JOY              MEH  ...               NaN   \n",
       "4                           JOY          DESPAIR  ...               NaN   \n",
       "\n",
       "                                  Q9: OTHER COMMENTS      Q10: DRESS  \\\n",
       "0                                                NaN             NaN   \n",
       "1  Bottom line is Twix is really the only candy w...  White and gold   \n",
       "2                                                NaN             NaN   \n",
       "3                             Raisins can go to hell  White and gold   \n",
       "4                                                NaN  White and gold   \n",
       "\n",
       "  Unnamed: 113 Q11: DAY Q12: MEDIA [Daily Dish] Q12: MEDIA [Science]  \\\n",
       "0          NaN      NaN                     NaN                  NaN   \n",
       "1          NaN   Sunday                     NaN                  1.0   \n",
       "2          NaN      NaN                     NaN                  NaN   \n",
       "3          NaN   Sunday                     NaN                  1.0   \n",
       "4          NaN   Friday                     NaN                  1.0   \n",
       "\n",
       "  Q12: MEDIA [ESPN] Q12: MEDIA [Yahoo] Click Coordinates (x, y)  \n",
       "0               NaN                NaN                      NaN  \n",
       "1               NaN                NaN                 (84, 25)  \n",
       "2               NaN                NaN                      NaN  \n",
       "3               NaN                NaN                 (75, 23)  \n",
       "4               NaN                NaN                 (70, 10)  \n",
       "\n",
       "[5 rows x 120 columns]"
      ]
     },
     "execution_count": 2,
     "metadata": {},
     "output_type": "execute_result"
    }
   ],
   "source": [
    "# Loading the csv file\n",
    "df = pd.read_csv(\"candyhierarchy2017.csv\", encoding= \"latin-1\" )\n",
    "df.head(5)"
   ]
  },
  {
   "cell_type": "code",
   "execution_count": 3,
   "metadata": {},
   "outputs": [],
   "source": [
    "# setting the Internal ID column as the Index\n",
    "df.set_index('Internal ID', inplace = True)"
   ]
  },
  {
   "cell_type": "code",
   "execution_count": 4,
   "metadata": {},
   "outputs": [],
   "source": [
    "# drop duplicates if any.\n",
    "df.drop_duplicates(inplace=True)"
   ]
  },
  {
   "cell_type": "code",
   "execution_count": 5,
   "metadata": {},
   "outputs": [
    {
     "data": {
      "text/plain": [
       "['Q1: GOING OUT?',\n",
       " 'Q2: GENDER',\n",
       " 'Q3: AGE',\n",
       " 'Q4: COUNTRY',\n",
       " 'Q5: STATE, PROVINCE, COUNTY, ETC',\n",
       " 'Q6 | 100 Grand Bar',\n",
       " 'Q6 | Anonymous brown globs that come in black and orange wrappers\\t(a.k.a. Mary Janes)',\n",
       " 'Q6 | Any full-sized candy bar',\n",
       " 'Q6 | Black Jacks',\n",
       " 'Q6 | Bonkers (the candy)',\n",
       " 'Q6 | Bonkers (the board game)',\n",
       " 'Q6 | Bottle Caps',\n",
       " \"Q6 | Box'o'Raisins\",\n",
       " 'Q6 | Broken glow stick',\n",
       " 'Q6 | Butterfinger',\n",
       " 'Q6 | Cadbury Creme Eggs',\n",
       " 'Q6 | Candy Corn',\n",
       " 'Q6 | Candy that is clearly just the stuff given out for free at restaurants',\n",
       " 'Q6 | Caramellos',\n",
       " 'Q6 | Cash, or other forms of legal tender',\n",
       " 'Q6 | Chardonnay',\n",
       " 'Q6 | Chick-o-Sticks (we donÕt know what that is)',\n",
       " 'Q6 | Chiclets',\n",
       " 'Q6 | Coffee Crisp',\n",
       " 'Q6 | Creepy Religious comics/Chick Tracts',\n",
       " 'Q6 | Dental paraphenalia',\n",
       " 'Q6 | Dots',\n",
       " 'Q6 | Dove Bars',\n",
       " 'Q6 | Fuzzy Peaches',\n",
       " 'Q6 | Generic Brand Acetaminophen',\n",
       " 'Q6 | Glow sticks',\n",
       " 'Q6 | Goo Goo Clusters',\n",
       " \"Q6 | Good N' Plenty\",\n",
       " 'Q6 | Gum from baseball cards',\n",
       " 'Q6 | Gummy Bears straight up',\n",
       " 'Q6 | Hard Candy',\n",
       " 'Q6 | Healthy Fruit',\n",
       " 'Q6 | Heath Bar',\n",
       " \"Q6 | Hershey's Dark Chocolate\",\n",
       " 'Q6 | HersheyÕs Milk Chocolate',\n",
       " \"Q6 | Hershey's Kisses\",\n",
       " 'Q6 | Hugs (actual physical hugs)',\n",
       " 'Q6 | Jolly Rancher (bad flavor)',\n",
       " 'Q6 | Jolly Ranchers (good flavor)',\n",
       " 'Q6 | JoyJoy (Mit Iodine!)',\n",
       " 'Q6 | Junior Mints',\n",
       " 'Q6 | Senior Mints',\n",
       " 'Q6 | Kale smoothie',\n",
       " 'Q6 | Kinder Happy Hippo',\n",
       " 'Q6 | Kit Kat',\n",
       " 'Q6 | LaffyTaffy',\n",
       " 'Q6 | LemonHeads',\n",
       " 'Q6 | Licorice (not black)',\n",
       " 'Q6 | Licorice (yes black)',\n",
       " 'Q6 | Lindt Truffle',\n",
       " 'Q6 | Lollipops',\n",
       " 'Q6 | Mars',\n",
       " 'Q6 | Maynards',\n",
       " 'Q6 | Mike and Ike',\n",
       " 'Q6 | Milk Duds',\n",
       " 'Q6 | Milky Way',\n",
       " 'Q6 | Regular M&Ms',\n",
       " 'Q6 | Peanut M&MÕs',\n",
       " \"Q6 | Blue M&M's\",\n",
       " \"Q6 | Red M&M's\",\n",
       " \"Q6 | Green Party M&M's\",\n",
       " \"Q6 | Independent M&M's\",\n",
       " \"Q6 | Abstained from M&M'ing.\",\n",
       " 'Q6 | Minibags of chips',\n",
       " 'Q6 | Mint Kisses',\n",
       " 'Q6 | Mint Juleps',\n",
       " 'Q6 | Mr. Goodbar',\n",
       " 'Q6 | Necco Wafers',\n",
       " 'Q6 | Nerds',\n",
       " 'Q6 | Nestle Crunch',\n",
       " \"Q6 | Now'n'Laters\",\n",
       " 'Q6 | Peeps',\n",
       " 'Q6 | Pencils',\n",
       " 'Q6 | Pixy Stix',\n",
       " 'Q6 | Real Housewives of Orange County Season 9 Blue-Ray',\n",
       " 'Q6 | ReeseÕs Peanut Butter Cups',\n",
       " \"Q6 | Reese's Pieces\",\n",
       " 'Q6 | Reggie Jackson Bar',\n",
       " 'Q6 | Rolos',\n",
       " 'Q6 | Sandwich-sized bags filled with BooBerry Crunch',\n",
       " 'Q6 | Skittles',\n",
       " 'Q6 | Smarties (American)',\n",
       " 'Q6 | Smarties (Commonwealth)',\n",
       " 'Q6 | Snickers',\n",
       " 'Q6 | Sourpatch Kids (i.e. abominations of nature)',\n",
       " 'Q6 | Spotted Dick',\n",
       " 'Q6 | Starburst',\n",
       " 'Q6 | Sweet Tarts',\n",
       " 'Q6 | Swedish Fish',\n",
       " 'Q6 | Sweetums (a friend to diabetes)',\n",
       " 'Q6 | Take 5',\n",
       " 'Q6 | Tic Tacs',\n",
       " 'Q6 | Those odd marshmallow circus peanut things',\n",
       " 'Q6 | Three Musketeers',\n",
       " 'Q6 | Tolberone something or other',\n",
       " 'Q6 | Trail Mix',\n",
       " 'Q6 | Twix',\n",
       " 'Q6 | Vials of pure high fructose corn syrup, for main-lining into your vein',\n",
       " 'Q6 | Vicodin',\n",
       " 'Q6 | Whatchamacallit Bars',\n",
       " 'Q6 | White Bread',\n",
       " 'Q6 | Whole Wheat anything',\n",
       " 'Q6 | York Peppermint Patties',\n",
       " 'Q7: JOY OTHER',\n",
       " 'Q8: DESPAIR OTHER',\n",
       " 'Q9: OTHER COMMENTS',\n",
       " 'Q10: DRESS',\n",
       " 'Unnamed: 113',\n",
       " 'Q11: DAY',\n",
       " 'Q12: MEDIA [Daily Dish]',\n",
       " 'Q12: MEDIA [Science]',\n",
       " 'Q12: MEDIA [ESPN]',\n",
       " 'Q12: MEDIA [Yahoo]',\n",
       " 'Click Coordinates (x, y)']"
      ]
     },
     "execution_count": 5,
     "metadata": {},
     "output_type": "execute_result"
    }
   ],
   "source": [
    "list(df.columns)"
   ]
  },
  {
   "cell_type": "markdown",
   "metadata": {},
   "source": [
    "## Handling missing values"
   ]
  },
  {
   "cell_type": "code",
   "execution_count": 6,
   "metadata": {},
   "outputs": [
    {
     "data": {
      "text/plain": [
       "Q1: GOING OUT?                        90\n",
       "Q2: GENDER                            18\n",
       "Q3: AGE                               55\n",
       "Q4: COUNTRY                           35\n",
       "Q5: STATE, PROVINCE, COUNTY, ETC      71\n",
       "                                    ... \n",
       "Q12: MEDIA [Daily Dish]             2340\n",
       "Q12: MEDIA [Science]                1063\n",
       "Q12: MEDIA [ESPN]                   2326\n",
       "Q12: MEDIA [Yahoo]                  2358\n",
       "Click Coordinates (x, y)             820\n",
       "Length: 119, dtype: int64"
      ]
     },
     "execution_count": 6,
     "metadata": {},
     "output_type": "execute_result"
    }
   ],
   "source": [
    "df.isnull().sum()"
   ]
  },
  {
   "cell_type": "code",
   "execution_count": 7,
   "metadata": {},
   "outputs": [
    {
     "data": {
      "text/plain": [
       "90"
      ]
     },
     "execution_count": 7,
     "metadata": {},
     "output_type": "execute_result"
    }
   ],
   "source": [
    "#d f[\"Q1: GOING OUT?\"].describe()\n",
    "df[\"Q1: GOING OUT?\"].isnull().sum()"
   ]
  },
  {
   "cell_type": "code",
   "execution_count": 8,
   "metadata": {},
   "outputs": [],
   "source": [
    "# Missing values replaced as subject didn't want to answer\n",
    "df[\"Q1: GOING OUT?\"].fillna(value=\"I'd rather not say\", inplace=True)"
   ]
  },
  {
   "cell_type": "code",
   "execution_count": 9,
   "metadata": {},
   "outputs": [],
   "source": [
    "df[\"Q2: GENDER\"].fillna(value=\"I'd rather not say\", inplace=True)"
   ]
  },
  {
   "cell_type": "code",
   "execution_count": 10,
   "metadata": {},
   "outputs": [
    {
     "data": {
      "text/plain": [
       "array([nan, '44', '49', '40', '23', '53', '33', '43', '56', '64', '37',\n",
       "       '59', '48', '54', '36', '45', '25', '34', '35', '38', '58', '50',\n",
       "       '47', '16', '52', '63', '65', '41', '27', '31', '61', '46', '42',\n",
       "       '62', '29', '39', '32', '28', '69', '67', '30', '22', '26', '51',\n",
       "       '70', '24', '18', '19', 'Old enough', '57', '60', '66', '12',\n",
       "       'Many', '55', '72', '?', '21', '11', 'no', '9', '68', '20', '6',\n",
       "       '10', '71', '90', '13', '45-55', '312', '99', '7', 'hahahahaha',\n",
       "       '88', '39.4', '74', '102', 'older than dirt', '17', '15', '8',\n",
       "       '75', '5u', 'Enough', 'See question 2', '24-50', '14', 'Over 50',\n",
       "       '100', '76', '1000', 'sixty-nine', '46 Halloweens.', 'ancient',\n",
       "       '77', 'OLD', 'old', '73', '70 1/2', '1', 'MY NAME JEFF', '4',\n",
       "       '59 on the day after Halloween', 'old enough', 'your mom',\n",
       "       'I can remember when Java was a cool new language', '60+'],\n",
       "      dtype=object)"
      ]
     },
     "execution_count": 10,
     "metadata": {},
     "output_type": "execute_result"
    }
   ],
   "source": [
    "df[\"Q3: AGE\"].unique()"
   ]
  },
  {
   "cell_type": "code",
   "execution_count": 11,
   "metadata": {},
   "outputs": [
    {
     "data": {
      "text/plain": [
       "71"
      ]
     },
     "execution_count": 11,
     "metadata": {},
     "output_type": "execute_result"
    }
   ],
   "source": [
    "# Removing Strings from Age column\n",
    "df[\"Q3: AGE\"]= df[\"Q3: AGE\"].astype(str)\n",
    "df[\"Q3: AGE\"] = df[\"Q3: AGE\"].str.replace('\\D+', '')\n",
    "df[\"Q3: AGE\"] = pd.to_numeric(df[\"Q3: AGE\"], errors='coerce') # coerce - invalid parsing will be set as NaN\n",
    "df[\"Q3: AGE\"].isnull().sum()"
   ]
  },
  {
   "cell_type": "code",
   "execution_count": 12,
   "metadata": {},
   "outputs": [],
   "source": [
    "# Replacing certain values manually\n",
    "df[\"Q3: AGE\"] = df[\"Q3: AGE\"].replace(2450, np.mean((24,50)))\n",
    "df[\"Q3: AGE\"] = df[\"Q3: AGE\"].replace(4555, np.mean((45,55)))\n",
    "df[\"Q3: AGE\"] = df[\"Q3: AGE\"].replace(394, 39)\n",
    "df[\"Q3: AGE\"] = df[\"Q3: AGE\"].replace(7012, 71)\n",
    "\n",
    "# Dealing with outliers\n",
    "df[\"Q3: AGE\"] = df[\"Q3: AGE\"].mask((df[\"Q3: AGE\"] > 100), np.nan)\n",
    "df[\"Q3: AGE\"] = df[\"Q3: AGE\"].mask((df[\"Q3: AGE\"] < 5), np.nan)"
   ]
  },
  {
   "cell_type": "code",
   "execution_count": 13,
   "metadata": {},
   "outputs": [],
   "source": [
    "# Filling null values\n",
    "mean_age = df[\"Q3: AGE\"].mean(skipna=True)\n",
    "df[\"Q3: AGE\"].fillna(value=mean_age, inplace=True)\n",
    "df[\"Q3: AGE\"] = df[\"Q3: AGE\"].round(0).astype(int)"
   ]
  },
  {
   "cell_type": "markdown",
   "metadata": {},
   "source": [
    "### Country column"
   ]
  },
  {
   "cell_type": "code",
   "execution_count": 14,
   "metadata": {},
   "outputs": [
    {
     "data": {
      "text/plain": [
       "array([nan, 'USA ', 'USA', 'us', 'usa', 'canada', 'Canada', 'Us', 'US',\n",
       "       'Murica', 'United States', 'uk', 'United Kingdom', 'united states',\n",
       "       'Usa', 'United States ', 'United staes',\n",
       "       'United States of America', 'UAE', 'England', 'UK', 'canada ',\n",
       "       'Mexico', 'United states', 'u.s.a.', 'USAUSAUSA', 'america', '35',\n",
       "       'france', 'United States of America ', 'U.S.A.', 'finland',\n",
       "       'unhinged states', 'Canada ', 'united states of america',\n",
       "       'US of A', 'Unites States', 'The United States', 'North Carolina ',\n",
       "       'Unied States', 'Netherlands', 'germany', 'Europe', 'Earth', 'U S',\n",
       "       'u.s.', 'U.K. ', 'Costa Rica', 'The United States of America',\n",
       "       'unite states', 'U.S.', '46', 'cascadia', 'Australia',\n",
       "       'insanity lately', 'Greece', 'USA? Hard to tell anymore..',\n",
       "       \"'merica\", 'usas', 'Pittsburgh', '45', 'United State', '32',\n",
       "       'France', 'australia', 'A', 'Can', 'Canae', 'New York',\n",
       "       'Trumpistan', 'Ireland', 'United Sates', 'Korea', 'California',\n",
       "       'Japan', 'USa', 'South africa',\n",
       "       'I pretend to be from Canada, but I am really from the United States.',\n",
       "       'Usa ', 'Uk', 'Iceland', 'Germany', 'Canada`', 'Scotland', 'UK ',\n",
       "       'Denmark', 'United Stated', 'France ', 'Switzerland',\n",
       "       'Ahem....Amerca', 'UD', 'Scotland ', 'South Korea', 'New Jersey',\n",
       "       'CANADA', 'Indonesia', 'United ststes', 'America',\n",
       "       'The Netherlands', 'United Statss', 'endland', 'Atlantis',\n",
       "       'murrika', 'USA! USA! USA!', 'USAA', 'Alaska', 'united States ',\n",
       "       'soviet canuckistan', 'N. America', 'Singapore', 'USSA', 'China',\n",
       "       'Taiwan', 'Ireland ', 'hong kong', 'spain', 'Sweden', 'Hong Kong',\n",
       "       'U.S. ', 'Narnia', 'u s a', 'United Statea', 'united ststes', '1',\n",
       "       'subscribe to dm4uz3 on youtube', 'United kingdom',\n",
       "       'USA USA USA!!!!', \"I don't know anymore\", 'Fear and Loathing'],\n",
       "      dtype=object)"
      ]
     },
     "execution_count": 14,
     "metadata": {},
     "output_type": "execute_result"
    }
   ],
   "source": [
    "df[\"Q4: COUNTRY\"].unique()"
   ]
  },
  {
   "cell_type": "markdown",
   "metadata": {},
   "source": [
    "#### WOW.. It seems way too messy. So, i'm going to select United States of America only for this cleaning purpose."
   ]
  },
  {
   "cell_type": "code",
   "execution_count": 15,
   "metadata": {},
   "outputs": [],
   "source": [
    "# list of strings entered for USA country\n",
    "usa = [\"us\", \"usa\", \"u s\" \"united states\",\"u.s.\", \"america\", \"states\", \"united states of america\",\\\n",
    "       \"unites states\", \"united staes\", \"united ststes\", \"unite states\", \"united sates\" ]\n",
    "\n",
    "\n",
    "df['Q4: COUNTRY']=df['Q4: COUNTRY'].str.lower() # making all strings lower case\n",
    "\n",
    "# Replacing misspelled names with USA \n",
    "for element in df['Q4: COUNTRY']:\n",
    "    if type(element) is not float:\n",
    "        for u in usa:\n",
    "            if u in element:\n",
    "                df['Q4: COUNTRY'] = df['Q4: COUNTRY'].replace(element,'USA')\n",
    "\n",
    "# Replacing all other country names to NaN               \n",
    "for element in df['Q4: COUNTRY']:\n",
    "    if type(element) is not float:\n",
    "        if 'USA' not in element:\n",
    "            df['Q4: COUNTRY'] = df['Q4: COUNTRY'].replace(element,np.NaN)               \n",
    "                \n",
    "df = df[pd.notnull(df['Q4: COUNTRY'])]"
   ]
  },
  {
   "cell_type": "code",
   "execution_count": 16,
   "metadata": {},
   "outputs": [
    {
     "data": {
      "text/plain": [
       "0"
      ]
     },
     "execution_count": 16,
     "metadata": {},
     "output_type": "execute_result"
    }
   ],
   "source": [
    "df['Q4: COUNTRY'].isnull().sum()"
   ]
  },
  {
   "cell_type": "code",
   "execution_count": 17,
   "metadata": {},
   "outputs": [
    {
     "data": {
      "text/plain": [
       "(2031, 119)"
      ]
     },
     "execution_count": 17,
     "metadata": {},
     "output_type": "execute_result"
    }
   ],
   "source": [
    "df.shape"
   ]
  },
  {
   "cell_type": "markdown",
   "metadata": {},
   "source": [
    "### Group by"
   ]
  },
  {
   "cell_type": "code",
   "execution_count": 26,
   "metadata": {},
   "outputs": [
    {
     "data": {
      "text/plain": [
       "Q2: GENDER          Q6 | Kit Kat\n",
       "Female              JOY             421\n",
       "                    MEH              80\n",
       "                    DESPAIR          22\n",
       "I'd rather not say  JOY              41\n",
       "                    MEH               4\n",
       "                    DESPAIR           1\n",
       "Male                JOY             754\n",
       "                    MEH             156\n",
       "                    DESPAIR          23\n",
       "Other               JOY              14\n",
       "                    DESPAIR           3\n",
       "                    MEH               3\n",
       "Name: Q6 | Kit Kat, dtype: int64"
      ]
     },
     "execution_count": 26,
     "metadata": {},
     "output_type": "execute_result"
    }
   ],
   "source": [
    "# let's see which gender like KitKat more\n",
    "df.groupby(\"Q2: GENDER\")['Q6 | Kit Kat'].value_counts()"
   ]
  },
  {
   "cell_type": "code",
   "execution_count": null,
   "metadata": {},
   "outputs": [],
   "source": []
  }
 ],
 "metadata": {
  "kernelspec": {
   "display_name": "Python 3",
   "language": "python",
   "name": "python3"
  },
  "language_info": {
   "codemirror_mode": {
    "name": "ipython",
    "version": 3
   },
   "file_extension": ".py",
   "mimetype": "text/x-python",
   "name": "python",
   "nbconvert_exporter": "python",
   "pygments_lexer": "ipython3",
   "version": "3.8.5"
  }
 },
 "nbformat": 4,
 "nbformat_minor": 4
}
